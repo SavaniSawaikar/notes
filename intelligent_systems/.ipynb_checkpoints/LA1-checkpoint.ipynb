{
 "cells": [
  {
   "cell_type": "markdown",
   "metadata": {},
   "source": [
    "# Linear Algebra I"
   ]
  },
  {
   "cell_type": "markdown",
   "metadata": {},
   "source": [
    "In the first two tutorials, we will look at some basic definitions and properties of linear algebra, and their implementations and a few applications using python and NumPy (https://numpy.org/) in Jupyter notebook (https://jupyter.org/).\n",
    "\n",
    "In the first session, we are going to look at vectors, and in the next session, we will look at matrices."
   ]
  },
  {
   "cell_type": "markdown",
   "metadata": {},
   "source": [
    "First, let us firstly import some useful libraries..."
   ]
  },
  {
   "cell_type": "code",
   "execution_count": 2,
   "metadata": {},
   "outputs": [],
   "source": [
    "import numpy as np\n",
    "import matplotlib.pyplot as plt\n",
    "\n",
    "%matplotlib inline"
   ]
  },
  {
   "cell_type": "markdown",
   "metadata": {},
   "source": [
    "## Basic properties"
   ]
  },
  {
   "cell_type": "markdown",
   "metadata": {},
   "source": [
    "Vectors are one of the most basic and important objects in linear algebra. We have already looked at what a vector space is, as well some other basic definitions. Throughout this tutorial, we are going to assume that our vector space is over the real field $\\mathbb{R}$, i.e., we assume that all the entries in the vectors are real numbers. \n",
    "\n",
    "#### Exercise: Determine for each of the following sets whether they are vector spaces or not.\n",
    "- $\\left\\{\\begin{bmatrix} 1 \\\\ 0 \\end{bmatrix}, \\begin{bmatrix} 0 \\\\ 1 \\end{bmatrix}\\right\\}$ \n",
    "- $\\mathbb{R}^n$\n",
    "- $\\{(x, y, z)\\in \\mathbb{R}^3\\;|\\;x+y+z = 1\\}$\n",
    "\n",
    "\n",
    "\n",
    "You will probably be familiar with the fact that there are rules which govern the dimension fo the vector. For example, if $V$ is $\\mathbb{R}^n$, then $\\vec{v}\\in \\mathbb{C}^{n}$ is an $n$-dimensional vector. In python, an $n$-dimensional vector is represented by a $n\\times 1$-dimensional array (tensor). \n",
    "\n",
    "\n",
    "### Creating a vector\n",
    "\n",
    "In Python, they are represented using arrays. For instance, say we have two vectors $\\vec{v}$ and $\\vec{s}$, defined as:\n",
    "\\begin{equation}\\vec{v} = \\begin{bmatrix}2 \\\\ 1 \\end{bmatrix}\\end{equation}\n",
    "\\begin{equation}\\vec{s} = \\begin{bmatrix}-3 \\\\ 2 \\end{bmatrix}\\end{equation}\n",
    "\n",
    "#### Run the cell below to create and visualise two vectors $\\vec{v}$ and $\\vec{s}$:"
   ]
  },
  {
   "cell_type": "markdown",
   "metadata": {},
   "source": [
    "Answer to the Basic Properties Exercise:\n",
    "1. True\n",
    "2. True\n",
    "3. True"
   ]
  },
  {
   "cell_type": "code",
   "execution_count": 5,
   "metadata": {
    "scrolled": false
   },
   "outputs": [
    {
     "name": "stdout",
     "output_type": "stream",
     "text": [
      "[-3  2]\n"
     ]
    },
    {
     "data": {
      "image/png": "[encoded data removed]",
      "text/plain": [
       "<Figure size 640x480 with 1 Axes>"
      ]
     },
     "metadata": {},
     "output_type": "display_data"
    }
   ],
   "source": [
    "v = np.array([2,1])\n",
    "s = np.array([-3,2])\n",
    "print (s)\n",
    "\n",
    "# Plot v and s\n",
    "vecs = np.array([v,s])\n",
    "origin = [[0,0], [0,0]]\n",
    "plt.axis('equal')\n",
    "plt.grid()\n",
    "plt.ticklabel_format(style='sci', axis='both', scilimits=(0,0))\n",
    "plt.quiver(*origin, vecs[:,0], vecs[:,1], color=['r', 'b'], scale=10)\n",
    "plt.show()"
   ]
  },
  {
   "cell_type": "markdown",
   "metadata": {},
   "source": [
    "One of the most basic thing we could do is vector addition\n",
    "\\begin{equation}\\vec{z} = \\vec{v}+\\vec{s} = \\begin{bmatrix}-1 \\\\ 3 \\end{bmatrix}\\end{equation}\n",
    "Let us verify that Python gives the same results:"
   ]
  },
  {
   "cell_type": "code",
   "execution_count": 6,
   "metadata": {
    "scrolled": true
   },
   "outputs": [
    {
     "name": "stdout",
     "output_type": "stream",
     "text": [
      "[-1  3]\n"
     ]
    },
    {
     "data": {
      "image/png": "[encoded data removed]",
      "text/plain": [
       "<Figure size 640x480 with 1 Axes>"
      ]
     },
     "metadata": {},
     "output_type": "display_data"
    }
   ],
   "source": [
    "z = v + s\n",
    "print(z)\n",
    "vecs = np.array([v,s,z])\n",
    "origin = [[0, 0, 0], [0, 0, 0]]\n",
    "plt.axis('equal')\n",
    "plt.grid()\n",
    "plt.ticklabel_format(style='sci', axis='both', scilimits=(0,0))\n",
    "plt.quiver(*origin, vecs[:,0], vecs[:,1], color=['r', 'b', 'g'], scale=10)\n",
    "plt.show()"
   ]
  },
  {
   "cell_type": "markdown",
   "metadata": {},
   "source": [
    "## Vector multiplication"
   ]
  },
  {
   "cell_type": "markdown",
   "metadata": {},
   "source": [
    "Three types of vector multiplication exist\n",
    "- Scalar multiplication\n",
    "- Dot product\n",
    "- Cross product\n",
    "\n",
    "### Scalar multiplication\n",
    "Multiplying a vector by a scalar, which is equivalent to multiply each component of the vector by the same scalar. Assume that we have a vector $\\vec{v} = \\begin{bmatrix} v_{1}\\\\v_{2}\\end{bmatrix} \\in \\mathbb{C}^2$. Then multiplying $\\vec{v}$ by a scalar $\\lambda \\in \\mathbb{C}$ we have\n",
    "\\begin{equation} \\lambda\\vec{v} = \\lambda\\begin{bmatrix} v_{1}\\\\v_{2}\\end{bmatrix} = \\begin{bmatrix} \\lambda v_{1}\\\\\\lambda v_{2}\\end{bmatrix}\\end{equation}\n",
    "Note that division is equivalent to the scalar multiplication with the reciprocal of the divisor, this is allowed since $\\mathbb{C}$ is a field, and cannot be done if $\\vec{v}\\in\\mathbb{Z}^{n}$.\n",
    "\n",
    "### Dot product\n",
    "In vector spaces, this is also known as inner product, which takes in two vectors in $\\mathbb{F}^n$ ($\\mathbb{F}$ can be $\\mathbb{C}, \\mathbb{R}, \\dots$), and return a scalar in $\\mathbb{F}$ as following\n",
    "\\begin{equation} \\vec{v}\\cdot\\vec{w} = \\langle v, w \\rangle = \\vec{v}^T\\vec{w} = \\sum_{i=1}^{n}v_{i}w_{i}\\end{equation}\n",
    "In NumPy, dot product can be implemented using numpy.dot() function (note that in Python 3.5 or later, one can use the @ operator for computing the dot product). \n",
    "\n",
    "#### Exercise: Choose two 2-dimensional vectors (say $\\begin{bmatrix} 2 \\\\ 3\\end{bmatrix}$ and $\\begin{bmatrix} -3 \\\\ 2\\end{bmatrix}$), compute their dot product by hand, then calculate their dot product using python. Check if they match."
   ]
  },
  {
   "cell_type": "code",
   "execution_count": 7,
   "metadata": {},
   "outputs": [
    {
     "name": "stdout",
     "output_type": "stream",
     "text": [
      "17\n"
     ]
    }
   ],
   "source": [
    "# Dot Product Exercise (self)\n",
    "v1 = np.array([5, 3])\n",
    "v2 = np.array([4, -1])\n",
    "result = np.dot(v1, v2)\n",
    "print(result)"
   ]
  },
  {
   "cell_type": "code",
   "execution_count": 5,
   "metadata": {},
   "outputs": [
    {
     "name": "stdout",
     "output_type": "stream",
     "text": [
      "0\n"
     ]
    }
   ],
   "source": [
    "v = np.array([2,3])\n",
    "s = np.array([-3,2])\n",
    "d = np.dot(v,s)\n",
    "print (d)"
   ]
  },
  {
   "cell_type": "markdown",
   "metadata": {},
   "source": [
    "### Projection\n",
    "A projection is a linear transformation $P: V \\rightarrow V$ such that $P^2 = P$"
   ]
  },
  {
   "cell_type": "markdown",
   "metadata": {},
   "source": [
    "### Orthogonality\n",
    "Two vectors $v_{1}, v_{2}\\in V$ are _orthogonal_ if their dot product is $0$, i.e. $v_{1}\\cdot v_{2} = 0$. \n",
    "\n",
    "In Euclidean settings, two vectors are orthogonal if they are perpendicular.\n",
    "\n",
    "A set of vectors $S = \\{v_{1}, \\dots, v_{m}\\}$ in $\\mathbb{R}^n$, with the dot product, is said to be orthogonal if \n",
    "\\begin{equation}\n",
    "v_{i}\\cdot v_{j} = \\begin{cases} \\sum_{l=1}^{n}v_{il}v_{jl} & \\text{ if } i = j \\\\\n",
    "0 & \\text{ if } i \\neq j\n",
    "\\end{cases}\n",
    "\\end{equation}\n",
    "\n",
    "If in addition all the vectors in $S$ have __magnitude__ 1 (i.e. $v_{i}\\cdot v_{i} = 1$ for all $i$), we say that S is __orthonormal__. (Note: We will discuss magnitude more next lab, but for now, just know that the magnitude is the square root of $v\\cdot v$, which will be 1 if $v\\cdot v$ is 1.)\n",
    "\n",
    "#### Exercise: Check if the following sets of vectors are orthogonal (orthonormal) or not (either by hand or using python):\n",
    "- $\\left\\{\\begin{bmatrix}1\\\\0\\end{bmatrix}, \\begin{bmatrix}1\\\\3\\end{bmatrix}\\right\\}$\n",
    "- $\\left\\{\\begin{bmatrix}1\\\\0\\\\2\\\\1\\end{bmatrix}, \\begin{bmatrix}2\\\\3\\\\-2\\\\2\\end{bmatrix}, \\begin{bmatrix}1\\\\0\\\\0\\\\-1\\end{bmatrix}\\right\\}$\n",
    "- $\\left\\{e_{j} \\in \\mathbb{R}^n \\;|\\;j = 1, \\dots, n, \\text{ where } e_{jk} = \\delta_{jk}\\right\\}$  \n",
    "(Note: $\\delta$ here is the [Kronecker delta](https://en.wikipedia.org/wiki/Kronecker_delta) i.e. a function that is 1 when its two subscripts are equal and 0 otherwise.)\n",
    "\n",
    "#### Exercise: True or false - A set of vectors $\\{v_{1}, \\dots, v_{m}\\}$ is orthonormal iff. $v_{i}\\cdot v_{j} = \\delta_{ij}$ for all $i, j$."
   ]
  },
  {
   "cell_type": "markdown",
   "metadata": {},
   "source": [
    "### Alternative interpretation of dot product\n",
    "Note that geometrically, we could interpret dot product as the length of the projection of one vector onto another, i.e., we could write the dot products as:\n",
    "\n",
    "$$ \\vec{v} \\cdot \\vec{s} = \\|\\vec{v} \\|\\|\\vec{s}\\| \\cos (\\theta) $$ \n",
    "\n",
    "Proof is simple and omitted at this instance."
   ]
  },
  {
   "cell_type": "markdown",
   "metadata": {},
   "source": [
    "### Cross product\n",
    "Cross product of $\\vec{v}$ and $\\vec{s}$ can be interpreted as finding a vector $\\vec{w}$ such that $\\vec{w}$ is perpendicular to the two vectors. Hence naturally this can only be done in vector spaces with three or more dimensions. Cross product can be implemented using _numpy.cross()_ function. Note that the cross product is only defined in three dimensions. Therefore, the _numpy.cross()_ function plays various tricks to expand 2D vectors into 3D, and then takes subsets of 3D vectors to return answers."
   ]
  },
  {
   "cell_type": "markdown",
   "metadata": {},
   "source": [
    "## Application: Gram-Schmidt process\n",
    "Gram-Schmidt process is a method for orthogonalising (orthonormalising) a set of vectors (commonly) in $\\mathbb{R}^n$ with the standard dot product. The Gram-Schmidt process takes a finite, linearly independent set $S = \\{v_{1}, \\dots, v_{m}\\}$ for $m \\leq n$ and generates an orthogonal set $S' = \\{u_{1}, \\dots, u_{k}\\}$ which forms an orthogonal (orthonormal) basis of the $k$-dimensional subspace of $\\mathbb{R}^n$.\n",
    "\n",
    "We firstly define the projection operator from a vector $v$ to another vector $u$ by\n",
    "\\begin{equation}\n",
    "\\text{proj}_{u}(v) = \\frac{v\\cdot u}{u\\cdot u}\\cdot u\n",
    "\\end{equation}\n",
    "\n",
    "This projection operator projects the vector $v$ orthogonally onto the line spanned by the vector $u$.\n",
    "\n",
    "#### Exercise: Check (by hand) that $\\text{proj}_{u}(v)$ as defined above is indeed a projection\n",
    "\n",
    "The Gram-Schmidt process then works as follows:\n",
    "\\begin{align*}\n",
    "&u_{1} = v_{1},  & e_{1} = \\frac{u_{1}}{||u_{1}||}\\\\\n",
    "&u_{2} = v_{2} - \\text{proj}_{u_{1}}(v_{2}), & e_{2} = \\frac{u_{2}}{||u_{2}||}\\\\\n",
    "&u_{3} = v_{3} - \\text{proj}_{u_{1}}(v_{3}) - \\text{proj}_{u_{2}}(v_{3}), & e_{3} = \\frac{u_{2}}{||u_{2}||}\\\\\n",
    "&\\vdots &\\vdots\\\\\n",
    "&u_{k} = v_{k} - \\sum_{j=1}^{k-1}\\text{proj}_{u_{j}}(v_{k}), & e_{k} = \\frac{u_{k}}{||u_{k}||}\n",
    "\\end{align*}\n",
    "\n",
    "The set $\\{u_{1}, \\dots, u_{k}\\}$ is the output orthogonal basis, and the normalised set $\\{e_{1}, \\dots, e_{k}\\}$ is the output orthonormal basis set. \n",
    "\n",
    "Given the procedure and the definition of projection operator, it is easily verified that $u_{1}\\cdot u_{2} = 0$, then using this to compute $u_{1}\\cdot u_{3} = 0$ as well. A general proof requires induction and is omitted in the case. For detailed proof, please refer to e.g. [Golub, Gene H.; Van Loan, Charles F. (1996)]."
   ]
  },
  {
   "cell_type": "markdown",
   "metadata": {},
   "source": [
    "### Exercises: Write a python function that takes in 3 linearly independent 4-dimensional vectors and return a orthogonal basis using Gram-Schmidt process"
   ]
  },
  {
   "cell_type": "code",
   "execution_count": 4,
   "metadata": {},
   "outputs": [],
   "source": [
    "def gramSchmidt(v1, v2, v3):\n",
    "    '''\n",
    "    Input: v1, v2, v3 are three linearly independent 4-dimensional vectors\n",
    "    Return: u1, u2, u3, a set of three orthogonal 4-dimensional vectors using GS process\n",
    "    '''\n",
    "    u1, u2, u3 = None, None, None\n",
    "    # TODO: compute u1, u2 and u3 using the projection operator and GS process\n",
    "    \n",
    "    return u1, u2, u3"
   ]
  },
  {
   "cell_type": "markdown",
   "metadata": {
    "scrolled": true
   },
   "source": [
    "#### Exercise: Run a few experiments using your written function, check if it gives correct results by checking with your own workout.\n",
    "\n",
    "#### Exercise: Change the function so that the new function does GS-orthonormalisation."
   ]
  },
  {
   "cell_type": "code",
   "execution_count": null,
   "metadata": {},
   "outputs": [],
   "source": []
  }
 ],
 "metadata": {
  "kernelspec": {
   "display_name": "Python 3 (ipykernel)",
   "language": "python",
   "name": "python3"
  },
  "language_info": {
   "codemirror_mode": {
    "name": "ipython",
    "version": 3
   },
   "file_extension": ".py",
   "mimetype": "text/x-python",
   "name": "python",
   "nbconvert_exporter": "python",
   "pygments_lexer": "ipython3",
   "version": "3.10.7"
  }
 },
 "nbformat": 4,
 "nbformat_minor": 1
}
