{
 "cells": [
  {
   "cell_type": "markdown",
   "id": "78bfd592",
   "metadata": {},
   "source": [
    "# Programming Notebook"
   ]
  },
  {
   "cell_type": "markdown",
   "id": "59d6f692",
   "metadata": {},
   "source": [
    "This is a simple notebook to help you get started with programming in Python, and get used to using Jupyter notebooks with embedded python functions."
   ]
  },
  {
   "cell_type": "markdown",
   "id": "6d682532",
   "metadata": {},
   "source": [
    "## 1. Printing\n",
    "\n",
    "Run the following code snippet (using the \"Run\" button at the top or by pressing Shift+Enter while the below box is active) in order to print out a message. See what happens!"
   ]
  },
  {
   "cell_type": "code",
   "execution_count": 1,
   "id": "d5896645",
   "metadata": {},
   "outputs": [
    {
     "name": "stdout",
     "output_type": "stream",
     "text": [
      "Hello world\n"
     ]
    }
   ],
   "source": [
    "print(\"Hello world\")"
   ]
  },
  {
   "cell_type": "markdown",
   "id": "989240d8",
   "metadata": {},
   "source": [
    "**Exercise: Print your own message.**\n",
    "\n",
    "Use the empty code box below to print your own message. (After you finish writing your code, be sure to run it!)"
   ]
  },
  {
   "cell_type": "code",
   "execution_count": 2,
   "id": "1b70d6dc",
   "metadata": {},
   "outputs": [
    {
     "name": "stdout",
     "output_type": "stream",
     "text": [
      "Yes hurray\n"
     ]
    }
   ],
   "source": [
    "print(\"Yes hurray\")"
   ]
  },
  {
   "cell_type": "markdown",
   "id": "6030ad6a",
   "metadata": {},
   "source": [
    "## 2. Variables\n",
    "\n",
    "Another important part of programming is the language to define variables. Variables are named \"boxes\" where you can store data and later alter/overwrite or retrieve that data by using the name of that variable. The following example makes two variables, x and y, sets their values, and then prints them out. The first variable is set to a number and the second is set to a string. Notice that Python allows you to handle numerical and string data in very similar ways."
   ]
  },
  {
   "cell_type": "code",
   "execution_count": 3,
   "id": "53f1b230",
   "metadata": {},
   "outputs": [
    {
     "name": "stdout",
     "output_type": "stream",
     "text": [
      "The value of x is 3 and the value of y is Hi\n"
     ]
    }
   ],
   "source": [
    "x = 3\n",
    "y = \"Hi\"\n",
    "\n",
    "print(\"The value of x is\", x, \"and the value of y is\", y)"
   ]
  },
  {
   "cell_type": "markdown",
   "id": "9b602c06",
   "metadata": {},
   "source": [
    "Also note that Python automatically inserts spaces in between comma-separated values when they are sent into the `print` function."
   ]
  },
  {
   "cell_type": "markdown",
   "id": "fdeda46e",
   "metadata": {},
   "source": [
    "**Exercise: Use the above information to print out the value of 3841 * .0192.**\n",
    "\n",
    "Given what you have learned above, write some code in the below box to print out the result of multiplying 3841 by .0192. You can do this using the `print` function directly, or you can use variables in order to do the calculation.\n",
    "\n",
    "(If needed, here's [a guide on how to write arithmetic operators in Python](https://www.w3schools.com/python/gloss_python_arithmetic_operators.asp).)"
   ]
  },
  {
   "cell_type": "code",
   "execution_count": 4,
   "id": "42cf0b2d",
   "metadata": {},
   "outputs": [
    {
     "name": "stdout",
     "output_type": "stream",
     "text": [
      "737.472\n"
     ]
    }
   ],
   "source": [
    "print(3841 * 0.192)"
   ]
  },
  {
   "cell_type": "markdown",
   "id": "303210b5",
   "metadata": {},
   "source": [
    "## 3. Taking and using user input\n",
    "\n",
    "In Python, you can use the `input()` function in order to collect input from the user. You can then use that information in the form of a variable in order to make the program behave differently depending on what the user has input. For example, the below function, prints out whether the number input is greater than 10."
   ]
  },
  {
   "cell_type": "code",
   "execution_count": 11,
   "id": "ca6e6fbb",
   "metadata": {},
   "outputs": [
    {
     "name": "stdout",
     "output_type": "stream",
     "text": [
      "Enter a number:23\n",
      "Your number is greater than 10!\n"
     ]
    }
   ],
   "source": [
    "# This prompts the user to input something\n",
    "# (This is a comment, by the way. Anything after the '#' is ignored/skipped by Python.)\n",
    "user_input = input('Enter a number:')\n",
    "\n",
    "if (float(user_input) > 10):\n",
    "    # Note that this will throw an error if you don't enter a number.\n",
    "    # You can fix this behavior if you want (you will probably want to use a try/except),\n",
    "    # but you don't have to.\n",
    "    print(\"Your number is greater than 10!\")\n",
    "elif (float(user_input) >= 0):\n",
    "    # \"else if\" -- If the first condition didn't hold but this one did.\n",
    "    # Also, note that putting ':' after if/elif/else is important.\n",
    "    print(\"Your number is not greater than 10...\")\n",
    "else:\n",
    "    # If none of the above conditions held...\n",
    "    print(\"Your number is negative.\")"
   ]
  },
  {
   "cell_type": "markdown",
   "id": "88bd5678",
   "metadata": {},
   "source": [
    "**Exercise: Run the above code several times with different inputs.**\n",
    "\n",
    "Experiment with inputting different values to reach each of the conditions and try out unusual values to see what happens."
   ]
  },
  {
   "cell_type": "markdown",
   "id": "985dae88",
   "metadata": {},
   "source": [
    "## 4. Defined functions\n",
    "\n",
    "Just like with variables, sometimes it is helpful to write named bits of code that can later be invoked (or *called*) by using the name they have been given. This allows us to reuse the same set of work, sometimes under differing situations. For example, functions can take *arguments*, or input variables, that they make use of when operating, and which change the work they do.\n",
    "\n",
    "For example, the following function prints out the modulus of the two values sent into it:"
   ]
  },
  {
   "cell_type": "code",
   "execution_count": 12,
   "id": "dd780f94",
   "metadata": {},
   "outputs": [
    {
     "name": "stdout",
     "output_type": "stream",
     "text": [
      "1\n",
      "6\n",
      "2\n"
     ]
    }
   ],
   "source": [
    "# First we have to define our function:\n",
    "\n",
    "def modulus(a, b): # a and b are arguments. Note the colon needed at the end.\n",
    "    # Note: in Python, indentation is meaningful/important. In particular, it marks what\n",
    "    # lines of code belong to the body of a function or if/for/while/etc. block.\n",
    "    print(a % b)\n",
    "    \n",
    "# Now we are outside the function body.\n",
    "# Now that we have defined the function, we can use it as much as we like.\n",
    "\n",
    "modulus(10, 3)\n",
    "modulus(13, 7)\n",
    "modulus(-1, 3)"
   ]
  },
  {
   "cell_type": "markdown",
   "id": "ad250026",
   "metadata": {},
   "source": [
    "Instead of printing, we could actually `return` a value. Whatever is returned by a function can be used in another function or stored within a variable for later use. See below for the variable usage:"
   ]
  },
  {
   "cell_type": "code",
   "execution_count": 13,
   "id": "1fab0b40",
   "metadata": {},
   "outputs": [
    {
     "name": "stdout",
     "output_type": "stream",
     "text": [
      "0\n"
     ]
    }
   ],
   "source": [
    "def modulus(a, b):\n",
    "    return a % b  # <-- this is different\n",
    "\n",
    "myvar = modulus(20, 5)\n",
    "print(myvar)"
   ]
  },
  {
   "cell_type": "markdown",
   "id": "2ba07aec",
   "metadata": {},
   "source": [
    "**Exercise: Alter the above code to stick the result of the modulus function directly into a function**\n",
    "\n",
    "You can put it inside a `print` function, or you can use some other function."
   ]
  },
  {
   "cell_type": "markdown",
   "id": "3c3a6c91",
   "metadata": {},
   "source": [
    "## 5. For loops\n",
    "\n",
    "For loops are one way in which you can repeatedly execute some code over and over until some end condition is met (the other way is `while` loops). In order to use a for loop, you usually have some kind of variable or iterator you set up, and then when the variable crosses a threshold or the iterator reaches the end of the data structure it's traveling through, then the for loop exits. In Python, there are quite a few ways to set up for loops.\n",
    "\n",
    "The below example shows one of the most basic types of Python loops, which is using the function `range()`. Range takes one, two, or three numbers. When it takes just one, it generates a sequence starting from 0 and going up to the largest integer smaller than the given number, which may not be what you're expecting. Specifying two numbers allows you to set the starting number as well as the top. See more information about `range` [here](https://docs.python.org/3/library/stdtypes.html#range)."
   ]
  },
  {
   "cell_type": "code",
   "execution_count": 14,
   "id": "d20697eb",
   "metadata": {},
   "outputs": [
    {
     "name": "stdout",
     "output_type": "stream",
     "text": [
      "0\n",
      "1\n",
      "2\n",
      "3\n",
      "4\n",
      "10\n"
     ]
    }
   ],
   "source": [
    "my_sum = 0\n",
    "\n",
    "for i in range(5):\n",
    "    my_sum += i # This increments my_sum by i; it is equivalent to saying \"my_sum = my_sum + i\"\n",
    "    print(i)\n",
    "    \n",
    "# After the for loop, print the total:\n",
    "print(my_sum)"
   ]
  },
  {
   "cell_type": "markdown",
   "id": "41124e32",
   "metadata": {},
   "source": [
    "**Exercise: Use what you have learned above to create a program that takes in two values from the user, `a` and `b`, and returns the sum, a + a+1 + a+2 + ... + b**"
   ]
  },
  {
   "cell_type": "code",
   "execution_count": null,
   "id": "576cdba4",
   "metadata": {},
   "outputs": [],
   "source": [
    "# Use user_input (twice)\n",
    "# Create a function with a for loop\n"
   ]
  },
  {
   "cell_type": "markdown",
   "id": "f789d7b9",
   "metadata": {},
   "source": [
    "## 6. Python arrays (lists)\n",
    "\n",
    "One very important part of Python is that it has a construct called lists that allows multiple pieces of data to be collected together in the form of an array whose data can be accessed by their position within the array. For example, the following code constructs a list and then prints the first and third elements."
   ]
  },
  {
   "cell_type": "code",
   "execution_count": null,
   "id": "ffe026f8",
   "metadata": {},
   "outputs": [],
   "source": [
    "my_arr = [1, \"Hi\", \"green\", -2.3]\n",
    "\n",
    "print(my_arr[0])\n",
    "print(my_arr[2])"
   ]
  },
  {
   "cell_type": "markdown",
   "id": "8341bc9a",
   "metadata": {},
   "source": [
    "Note that arrays can contain data of different types all mixed together.\n",
    "\n",
    "The data in arrays can also be accessed by *iterating* through all of the elements one by one starting from the first. The below function does so using an iterator variable (`i`) and the construction `for i in x`."
   ]
  },
  {
   "cell_type": "code",
   "execution_count": null,
   "id": "fab693a3",
   "metadata": {},
   "outputs": [],
   "source": [
    "def print_elements(x):\n",
    "    for i in x:  # Each \"i\" here represents a different element of the array each time we loop\n",
    "        print(i)\n",
    "\n",
    "my_arr = [10, 8, 3, 1, 2]\n",
    "print_elements(my_arr)"
   ]
  },
  {
   "cell_type": "markdown",
   "id": "cfbc71cd",
   "metadata": {},
   "source": [
    "**Exercise: Using what you have learned so far, alter the above function to do the same thing, but by using the indexes of the array, not the iterator i.**\n",
    "\n",
    "In order to do this, you may want to get the number of elements in the array, which can be retrieved using `len(x)`, where `x` is the name of an array variable."
   ]
  },
  {
   "cell_type": "markdown",
   "id": "6c6f7651",
   "metadata": {},
   "source": [
    "## 7. Python dictionaries\n",
    "\n",
    "Another important data structure used in Python are dictionaries are a set of key-value pairs. Like arrays, they store multiple pieces of data, but unlike arrays, the data is accessed by using the name (key) of the piece of data. The following example shows how a dictionary is created and its values accessed."
   ]
  },
  {
   "cell_type": "code",
   "execution_count": null,
   "id": "aefbe4cf",
   "metadata": {},
   "outputs": [],
   "source": [
    "my_dict = {\n",
    "    \"red\": 50,\n",
    "    \"green\": 192,\n",
    "    \"blue\": 127\n",
    "}\n",
    "\n",
    "print(my_dict[\"blue\"])"
   ]
  },
  {
   "cell_type": "markdown",
   "id": "74d8bd5f",
   "metadata": {},
   "source": [
    "And then the following shows how you can iterate through dictionaries, while being able to manipulate both key and value data at the same time:"
   ]
  },
  {
   "cell_type": "code",
   "execution_count": null,
   "id": "d2119ec6",
   "metadata": {},
   "outputs": [],
   "source": [
    "# Note: This code snippet will not run unless you run the previous code snippet.\n",
    "# The previous code snippet defines the variable \"my_dict\" so without running that\n",
    "# one first, THIS code snippet has no idea what \"my_dict\" is...\n",
    "for k, v in my_dict.items():\n",
    "    print(\"The value of key\", k, \"is\", v)"
   ]
  },
  {
   "cell_type": "markdown",
   "id": "ce740d14",
   "metadata": {},
   "source": [
    "**Exercise: Make your own dictionary and print out its values**\n",
    "\n",
    "Also, a bit more difficult, but you may want to try out adding a NEW key-value pair to a dictionary after it has already been created."
   ]
  },
  {
   "cell_type": "code",
   "execution_count": null,
   "id": "4c8a5ea0",
   "metadata": {},
   "outputs": [],
   "source": []
  },
  {
   "cell_type": "markdown",
   "id": "dc464481",
   "metadata": {},
   "source": [
    "## 8. The numpy library and numpy arrays\n",
    "\n",
    "Numpy is a popular library useful for mathematical functions. In particular, it specializes in working with matrix data that is needed for linear algebra applications, which machine learning is largely based on. In order to make use of the numpy library, we must first import it. We do that in Python using the following code:"
   ]
  },
  {
   "cell_type": "code",
   "execution_count": 1,
   "id": "4b5e3a22",
   "metadata": {},
   "outputs": [],
   "source": [
    "import numpy as np"
   ]
  },
  {
   "cell_type": "markdown",
   "id": "fd6b88ad",
   "metadata": {},
   "source": [
    "If you run the above code box, it will appear to do nothing. However, by running that box, we can now make use of numpy functions. The `as np` part of that line of code gives us a nickname we can use to refer to the numpy module. Normally, we would need to say `numpy.array()` if we wanted to make a numpy array, but with the nickname, we can just say `np.array()` (this is useful when importing libraries and sub-modules with long names, not so useful here). Typically, `import` lines are collected together and placed at the top of Python files/notebooks so that all of the necessary libraries can be loaded all at once and used from that point onward. I did not do that here, though, because I wanted to wait until this point to introduce what libraries are.\n",
    "\n",
    "The tricky part of using numpy is that it defines its own set of arrays with their own functionality and convenience features. These arrays are separate from the Python arrays (lists) discussed above, and they behave in different ways. It's important, therefore, to keep track of whether a piece of data is a Python array or a numpy array.\n",
    "\n",
    "The following example shows how to create multidimensional (nested) Python arrays and numpy arrays, and how they behave differently."
   ]
  },
  {
   "cell_type": "code",
   "execution_count": 2,
   "id": "5ff3c290",
   "metadata": {},
   "outputs": [
    {
     "name": "stdout",
     "output_type": "stream",
     "text": [
      "[4, 5, 6]\n",
      "3\n",
      "[4 5 6]\n",
      "3\n"
     ]
    }
   ],
   "source": [
    "x = [[1, 2, 3], [4, 5, 6]]\n",
    "print(x[1]) # prints [4, 5, 6]\n",
    "print(x[0][2]) # prints 3\n",
    "\n",
    "# Remember: You can't properly run this line UNLESS you've run the box with the\n",
    "# import line above! (And you only need to run the above)\n",
    "y = np.array([[1, 2, 3], [4, 5, 6]]) \n",
    "print(y[1]) # prints [4 5 6]\n",
    "print(y[0][2]) # prints 3"
   ]
  },
  {
   "cell_type": "code",
   "execution_count": 5,
   "id": "d418a1c0",
   "metadata": {},
   "outputs": [
    {
     "name": "stdout",
     "output_type": "stream",
     "text": [
      "[2 5]\n",
      "[4 5 6]\n"
     ]
    }
   ],
   "source": [
    "# These two lines will yield a TypeError. Uncomment them to see what happens.\n",
    "#print(x[:, 1])\n",
    "#print(x[1, :])\n",
    "\n",
    "print(y[:, 1]) # prints [2 5]\n",
    "print(y[1, :]) # prints [4 5 6]"
   ]
  },
  {
   "cell_type": "code",
   "execution_count": 6,
   "id": "ce2ae693",
   "metadata": {},
   "outputs": [
    {
     "name": "stdout",
     "output_type": "stream",
     "text": [
      "[[1, 2, 3], [4, 5, 6]]\n",
      "[[1 2 3]\n",
      " [4 5 6]]\n"
     ]
    }
   ],
   "source": [
    "print(x)\n",
    "print(y)"
   ]
  },
  {
   "cell_type": "code",
   "execution_count": 7,
   "id": "4a8e70f6",
   "metadata": {},
   "outputs": [
    {
     "name": "stdout",
     "output_type": "stream",
     "text": [
      "<class 'list'>\n",
      "<class 'numpy.ndarray'>\n"
     ]
    }
   ],
   "source": [
    "print(type(x)) # x is a Python list\n",
    "print(type(y)) # y is a numpy array (numpy.ndarray -- n-dimensional array)"
   ]
  },
  {
   "cell_type": "markdown",
   "id": "2cfd3681",
   "metadata": {},
   "source": [
    "**Exercise: In the codebox below, use numpy to create a big, multidimensional array**\n",
    "\n",
    "You may want to check out the [numpy.zeros](https://numpy.org/doc/stable/reference/generated/numpy.zeros.html) function. This is a popular function for creating an empty (zero) array with particular dimensions. See the page linked for some examples of how to use the \"shape\" parameter in order to determine the dimensions of the created array. Then try printing it to verify the size and contents!"
   ]
  },
  {
   "cell_type": "code",
   "execution_count": 11,
   "id": "8b4143ed",
   "metadata": {},
   "outputs": [
    {
     "name": "stdout",
     "output_type": "stream",
     "text": [
      "[[0. 0.]\n",
      " [0. 0.]]\n"
     ]
    }
   ],
   "source": [
    "x = np.zeros((2,2))\n",
    "print(x)"
   ]
  },
  {
   "cell_type": "markdown",
   "id": "77168a15",
   "metadata": {},
   "source": [
    "## 9. Classes and objects\n",
    "\n",
    "Python is an object-oriented language. Object-oriented languages allow you to define custom data types called *classes* that come bundled with them (1) member data (variables associated with this class/with objects of this type), and (2) member functions (named functions that operate on objects of this type and determine their specialized behavior).\n",
    "\n",
    "So, for example, let's say I wanted to create an object that represents the result of a division (say 5 / 3), but I don't want to just have the decimal result (1.6666...) but instead keep the quotient and remainder (1 and 2) around. I could do this using a custom class that I build/define. The below shows how to do this:"
   ]
  },
  {
   "cell_type": "code",
   "execution_count": 15,
   "id": "64cf5c2c",
   "metadata": {},
   "outputs": [],
   "source": [
    "class DivisionResult():\n",
    "    def __init__(self, dividend, divisor):\n",
    "        # This copies the two arguments into member variables with the same name\n",
    "        self.dividend = dividend\n",
    "        self.divisor = divisor\n",
    "        \n",
    "        # In addition, I want to store two more member variables.\n",
    "        # (I am basically allowed to make up member variables as I go.)\n",
    "        self.quotient = dividend // divisor\n",
    "        self.remainder = dividend % divisor\n",
    "        \n",
    "    def print_mixed_fraction(self):\n",
    "        print(f\"{self.quotient} {self.remainder}/{self.dividend}\")"
   ]
  },
  {
   "cell_type": "markdown",
   "id": "c3e85536",
   "metadata": {},
   "source": [
    "Running the above piece of code again does not seem to do anything. But from now on, we can make use of this `DivisionResult` class we just defined.\n",
    "\n",
    "Note that I have defined a function called `__init__`. This is a special function called a constructor. Constructors run when a new object of this class's type is first created (*instantiated*). The first argument in the `__init__` function is `self`, which is a special variable representing the created object itself. So when I say `self.dividend = dividend`, it is essentially copying the value of `dividend`, which is sent into the constructor, into the data that this object always keeps around with it (its *member data* or *member variables*).\n",
    "\n",
    "Let's try using our new `DivisionResult` class!"
   ]
  },
  {
   "cell_type": "code",
   "execution_count": 16,
   "id": "182d342b",
   "metadata": {},
   "outputs": [
    {
     "name": "stdout",
     "output_type": "stream",
     "text": [
      "5\n",
      "1\n",
      "2\n"
     ]
    }
   ],
   "source": [
    "a = DivisionResult(5, 3) # We only pass in two arguments: dividend and divisor. We do not need \n",
    "                         # to pass in \"self\"; that is prepended automatically.\n",
    "    \n",
    "print(a.dividend)\n",
    "print(a.quotient)\n",
    "print(a.remainder)"
   ]
  },
  {
   "cell_type": "markdown",
   "id": "eb30b810",
   "metadata": {},
   "source": [
    "Cool, huh?"
   ]
  },
  {
   "cell_type": "markdown",
   "id": "4f8f2d4a",
   "metadata": {},
   "source": [
    "**Exercise: Try adding a new function to the above DivisionResult class definition, called `print_mixed_fraction`.**\n",
    "\n",
    "When called using the below code, this function should print out the value of the division result in the form of a mixed fraction (e.g. 1 2/3). Hint: the `print_mixed_fraction` function should take no arguments (aside from the \"self\" that gets automatically prepended). Also, if you want more flexibility in using Python's `print` function, you may want check out [guides like this one](https://learnpython.com/blog/python-print-function/)."
   ]
  },
  {
   "cell_type": "code",
   "execution_count": 17,
   "id": "e6249b32",
   "metadata": {},
   "outputs": [
    {
     "name": "stdout",
     "output_type": "stream",
     "text": [
      "1 2/5\n"
     ]
    }
   ],
   "source": [
    "a.print_mixed_fraction()  # After rerunning your altered class definition, run this to\n",
    "                          # to test the behavior of the function you wrote."
   ]
  },
  {
   "cell_type": "markdown",
   "id": "ca7f1bc9",
   "metadata": {},
   "source": [
    "Okay, that is it for this very simple introduction to programming in Python. Hopefully it is enough for you to get started with the main notebooks. If you have any questions, just ask! "
   ]
  }
 ],
 "metadata": {
  "kernelspec": {
   "display_name": "Python 3 (ipykernel)",
   "language": "python",
   "name": "python3"
  },
  "language_info": {
   "codemirror_mode": {
    "name": "ipython",
    "version": 3
   },
   "file_extension": ".py",
   "mimetype": "text/x-python",
   "name": "python",
   "nbconvert_exporter": "python",
   "pygments_lexer": "ipython3",
   "version": "3.10.7"
  }
 },
 "nbformat": 4,
 "nbformat_minor": 5
}
